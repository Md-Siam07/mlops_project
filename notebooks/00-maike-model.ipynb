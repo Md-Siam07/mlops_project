{
 "cells": [
  {
   "cell_type": "code",
   "execution_count": 92,
   "metadata": {},
   "outputs": [
    {
     "name": "stdout",
     "output_type": "stream",
     "text": [
      "The autoreload extension is already loaded. To reload it, use:\n",
      "  %reload_ext autoreload\n"
     ]
    }
   ],
   "source": [
    "%load_ext autoreload\n",
    "%autoreload 2\n",
    "\n",
    "import numpy as np\n",
    "import pandas as pd\n",
    "import yaml\n",
    "\n",
    "from xgboost import XGBClassifier\n",
    "\n",
    "from sklearn import set_config\n",
    "\n",
    "from sklearn.model_selection import cross_validate, train_test_split\n",
    "from sklearn.metrics import make_scorer\n",
    "\n",
    "from sklearn.base import BaseEstimator, TransformerMixin\n",
    "\n",
    "from sklearn.pipeline import make_pipeline, make_union\n",
    "from sklearn.compose import make_column_transformer\n",
    "\n",
    "from sklearn.impute import SimpleImputer\n",
    "from sklearn.preprocessing import OneHotEncoder\n",
    "\n",
    "set_config(display=\"diagram\")"
   ]
  },
  {
   "cell_type": "code",
   "execution_count": 93,
   "metadata": {},
   "outputs": [],
   "source": [
    "target = 'Survived'\n",
    "random_state = 5646"
   ]
  },
  {
   "cell_type": "markdown",
   "metadata": {},
   "source": [
    "### 1. Import data"
   ]
  },
  {
   "cell_type": "code",
   "execution_count": 94,
   "metadata": {},
   "outputs": [],
   "source": [
    "df = pd.read_csv(\"../data/raw/train.csv\")\n",
    "X, y = (\n",
    "    df.drop(target, axis=1),\n",
    "    df[[target]],\n",
    ")"
   ]
  },
  {
   "cell_type": "code",
   "execution_count": 95,
   "metadata": {},
   "outputs": [],
   "source": [
    "X_train, X_test, y_train, y_test = train_test_split(X, y, random_state=random_state, test_size=0.3, stratify=y)"
   ]
  },
  {
   "cell_type": "markdown",
   "metadata": {},
   "source": [
    "### 2. Prepare data"
   ]
  },
  {
   "cell_type": "code",
   "execution_count": 96,
   "metadata": {},
   "outputs": [],
   "source": [
    "class _BaseTransformer(BaseEstimator, TransformerMixin):\n",
    "    def __init__(self):\n",
    "        return None\n",
    "\n",
    "    def fit(self, X=None, y=None):\n",
    "        self.feature_names_in_ = X.columns\n",
    "        return self\n",
    "\n",
    "    def transform(self, X=None):\n",
    "        return self\n",
    "\n",
    "class CountAcrossFeatures(_BaseTransformer):\n",
    "    def __init__(self, name=\"Count\", offset=0):\n",
    "        self.name = name\n",
    "        self.offset = offset\n",
    "\n",
    "    def transform(self, X):\n",
    "        X_out = X[self.feature_names_in_].apply(lambda x: x.sum(), axis=1) + self.offset\n",
    "        return np.array(X_out).reshape(-1,1)\n",
    "\n",
    "    def get_feature_names_out(self, input_variables=None):\n",
    "        return [self.name.lower()]\n",
    "\n",
    "class DiscretizeFeatures(_BaseTransformer):\n",
    "    def __init__(self, name=\"Discretize\", quantiles=4, labels=None):\n",
    "        self.name = name\n",
    "        self.quantiles = quantiles\n",
    "        self.labels = labels\n",
    "\n",
    "    def fit(self, X, y=None):\n",
    "        self.feature_names_in_ = X.columns\n",
    "        if self.labels is None:\n",
    "            self.labels = np.arange(self.quantiles)\n",
    "        return self\n",
    "\n",
    "    def transform(self, X, y=None):\n",
    "        flattened_X = X[self.feature_names_in_].values.flatten()\n",
    "        X_out, self.bins = pd.qcut(flattened_X, self.quantiles, labels=self.labels, retbins=True)\n",
    "        return np.array(X_out).reshape(-1,1)\n",
    "\n",
    "    def get_feature_names_out(self, input_variables=None):\n",
    "        return [self.name.lower()]\n",
    "\n",
    "class BooleanFeatures(_BaseTransformer):\n",
    "    def __init__(self, name=\"Boolean\"):\n",
    "        self.name = name\n",
    "\n",
    "    def transform(self, X, y=None):\n",
    "        X_out = X[self.feature_names_in_].apply(lambda x: x.sum() == 0, axis=1).astype(int)\n",
    "        return np.array(X_out).reshape(-1,1)\n",
    "\n",
    "    def get_feature_names_out(self, input_variables=None):\n",
    "        return [self.name.lower()]\n",
    "\n",
    "class ExtractTitles(_BaseTransformer):\n",
    "    def __init__(self, name=\"Title\"):\n",
    "        self.name = name\n",
    "\n",
    "    def transform(self, X, y=None):\n",
    "        X_out = X[self.feature_names_in_].apply(lambda x: x.str.extract(' ([A-Za-z]+)\\.', expand=False))\n",
    "        return np.array(X_out)\n",
    "    \n",
    "    def get_feature_names_out(self, input_variables=None):        \n",
    "        return [(feature + \"_\" + self.name).lower() for feature in self.feature_names_in_]\n",
    "       "
   ]
  },
  {
   "cell_type": "code",
   "execution_count": 97,
   "metadata": {},
   "outputs": [
    {
     "data": {
      "text/html": [
       "<style>#sk-e2069453-4977-4b54-83ff-c8ecd82729cf {color: black;background-color: white;}#sk-e2069453-4977-4b54-83ff-c8ecd82729cf pre{padding: 0;}#sk-e2069453-4977-4b54-83ff-c8ecd82729cf div.sk-toggleable {background-color: white;}#sk-e2069453-4977-4b54-83ff-c8ecd82729cf label.sk-toggleable__label {cursor: pointer;display: block;width: 100%;margin-bottom: 0;padding: 0.3em;box-sizing: border-box;text-align: center;}#sk-e2069453-4977-4b54-83ff-c8ecd82729cf label.sk-toggleable__label-arrow:before {content: \"▸\";float: left;margin-right: 0.25em;color: #696969;}#sk-e2069453-4977-4b54-83ff-c8ecd82729cf label.sk-toggleable__label-arrow:hover:before {color: black;}#sk-e2069453-4977-4b54-83ff-c8ecd82729cf div.sk-estimator:hover label.sk-toggleable__label-arrow:before {color: black;}#sk-e2069453-4977-4b54-83ff-c8ecd82729cf div.sk-toggleable__content {max-height: 0;max-width: 0;overflow: hidden;text-align: left;background-color: #f0f8ff;}#sk-e2069453-4977-4b54-83ff-c8ecd82729cf div.sk-toggleable__content pre {margin: 0.2em;color: black;border-radius: 0.25em;background-color: #f0f8ff;}#sk-e2069453-4977-4b54-83ff-c8ecd82729cf input.sk-toggleable__control:checked~div.sk-toggleable__content {max-height: 200px;max-width: 100%;overflow: auto;}#sk-e2069453-4977-4b54-83ff-c8ecd82729cf input.sk-toggleable__control:checked~label.sk-toggleable__label-arrow:before {content: \"▾\";}#sk-e2069453-4977-4b54-83ff-c8ecd82729cf div.sk-estimator input.sk-toggleable__control:checked~label.sk-toggleable__label {background-color: #d4ebff;}#sk-e2069453-4977-4b54-83ff-c8ecd82729cf div.sk-label input.sk-toggleable__control:checked~label.sk-toggleable__label {background-color: #d4ebff;}#sk-e2069453-4977-4b54-83ff-c8ecd82729cf input.sk-hidden--visually {border: 0;clip: rect(1px 1px 1px 1px);clip: rect(1px, 1px, 1px, 1px);height: 1px;margin: -1px;overflow: hidden;padding: 0;position: absolute;width: 1px;}#sk-e2069453-4977-4b54-83ff-c8ecd82729cf div.sk-estimator {font-family: monospace;background-color: #f0f8ff;border: 1px dotted black;border-radius: 0.25em;box-sizing: border-box;margin-bottom: 0.5em;}#sk-e2069453-4977-4b54-83ff-c8ecd82729cf div.sk-estimator:hover {background-color: #d4ebff;}#sk-e2069453-4977-4b54-83ff-c8ecd82729cf div.sk-parallel-item::after {content: \"\";width: 100%;border-bottom: 1px solid gray;flex-grow: 1;}#sk-e2069453-4977-4b54-83ff-c8ecd82729cf div.sk-label:hover label.sk-toggleable__label {background-color: #d4ebff;}#sk-e2069453-4977-4b54-83ff-c8ecd82729cf div.sk-serial::before {content: \"\";position: absolute;border-left: 1px solid gray;box-sizing: border-box;top: 2em;bottom: 0;left: 50%;}#sk-e2069453-4977-4b54-83ff-c8ecd82729cf div.sk-serial {display: flex;flex-direction: column;align-items: center;background-color: white;padding-right: 0.2em;padding-left: 0.2em;}#sk-e2069453-4977-4b54-83ff-c8ecd82729cf div.sk-item {z-index: 1;}#sk-e2069453-4977-4b54-83ff-c8ecd82729cf div.sk-parallel {display: flex;align-items: stretch;justify-content: center;background-color: white;}#sk-e2069453-4977-4b54-83ff-c8ecd82729cf div.sk-parallel::before {content: \"\";position: absolute;border-left: 1px solid gray;box-sizing: border-box;top: 2em;bottom: 0;left: 50%;}#sk-e2069453-4977-4b54-83ff-c8ecd82729cf div.sk-parallel-item {display: flex;flex-direction: column;position: relative;background-color: white;}#sk-e2069453-4977-4b54-83ff-c8ecd82729cf div.sk-parallel-item:first-child::after {align-self: flex-end;width: 50%;}#sk-e2069453-4977-4b54-83ff-c8ecd82729cf div.sk-parallel-item:last-child::after {align-self: flex-start;width: 50%;}#sk-e2069453-4977-4b54-83ff-c8ecd82729cf div.sk-parallel-item:only-child::after {width: 0;}#sk-e2069453-4977-4b54-83ff-c8ecd82729cf div.sk-dashed-wrapped {border: 1px dashed gray;margin: 0 0.4em 0.5em 0.4em;box-sizing: border-box;padding-bottom: 0.4em;background-color: white;position: relative;}#sk-e2069453-4977-4b54-83ff-c8ecd82729cf div.sk-label label {font-family: monospace;font-weight: bold;background-color: white;display: inline-block;line-height: 1.2em;}#sk-e2069453-4977-4b54-83ff-c8ecd82729cf div.sk-label-container {position: relative;z-index: 2;text-align: center;}#sk-e2069453-4977-4b54-83ff-c8ecd82729cf div.sk-container {/* jupyter's `normalize.less` sets `[hidden] { display: none; }` but bootstrap.min.css set `[hidden] { display: none !important; }` so we also need the `!important` here to be able to override the default hidden behavior on the sphinx rendered scikit-learn.org. See: https://github.com/scikit-learn/scikit-learn/issues/21755 */display: inline-block !important;position: relative;}#sk-e2069453-4977-4b54-83ff-c8ecd82729cf div.sk-text-repr-fallback {display: none;}</style><div id=\"sk-e2069453-4977-4b54-83ff-c8ecd82729cf\" class=\"sk-top-container\"><div class=\"sk-text-repr-fallback\"><pre>FeatureUnion(transformer_list=[(&#x27;columntransformer-1&#x27;,\n",
       "                                ColumnTransformer(transformers=[(&#x27;simpleimputer&#x27;,\n",
       "                                                                 SimpleImputer(strategy=&#x27;median&#x27;),\n",
       "                                                                 [&#x27;Age&#x27;]),\n",
       "                                                                (&#x27;pipeline&#x27;,\n",
       "                                                                 Pipeline(steps=[(&#x27;simpleimputer&#x27;,\n",
       "                                                                                  SimpleImputer(strategy=&#x27;most_frequent&#x27;)),\n",
       "                                                                                 (&#x27;onehotencoder&#x27;,\n",
       "                                                                                  OneHotEncoder(handle_unknown=&#x27;ignore&#x27;,\n",
       "                                                                                                sparse=False))]),\n",
       "                                                                 [&#x27;Embarked&#x27;])])),\n",
       "                               (&#x27;columntransformer-2&#x27;,\n",
       "                                ColumnT...\n",
       "                                                                 CountAcrossFeatures(name=&#x27;FamilySize&#x27;,\n",
       "                                                                                     offset=1),\n",
       "                                                                 [&#x27;SibSp&#x27;,\n",
       "                                                                  &#x27;Parch&#x27;]),\n",
       "                                                                (&#x27;discretizefeatures&#x27;,\n",
       "                                                                 DiscretizeFeatures(name=&#x27;FareBand&#x27;),\n",
       "                                                                 [&#x27;Fare&#x27;]),\n",
       "                                                                (&#x27;booleanfeatures&#x27;,\n",
       "                                                                 BooleanFeatures(name=&#x27;IsAlone&#x27;),\n",
       "                                                                 [&#x27;SibSp&#x27;,\n",
       "                                                                  &#x27;Parch&#x27;]),\n",
       "                                                                (&#x27;pipeline&#x27;,\n",
       "                                                                 Pipeline(steps=[(&#x27;extracttitles&#x27;,\n",
       "                                                                                  ExtractTitles()),\n",
       "                                                                                 (&#x27;onehotencoder&#x27;,\n",
       "                                                                                  OneHotEncoder(handle_unknown=&#x27;ignore&#x27;,\n",
       "                                                                                                sparse=False))]),\n",
       "                                                                 [&#x27;Name&#x27;])],\n",
       "                                                  verbose_feature_names_out=False))])</pre><b>Please rerun this cell to show the HTML repr or trust the notebook.</b></div><div class=\"sk-container\" hidden><div class=\"sk-item sk-dashed-wrapped\"><div class=\"sk-label-container\"><div class=\"sk-label sk-toggleable\"><input class=\"sk-toggleable__control sk-hidden--visually\" id=\"cd4e2185-ccdb-42f3-b8d2-66b891bfab0e\" type=\"checkbox\" ><label for=\"cd4e2185-ccdb-42f3-b8d2-66b891bfab0e\" class=\"sk-toggleable__label sk-toggleable__label-arrow\">FeatureUnion</label><div class=\"sk-toggleable__content\"><pre>FeatureUnion(transformer_list=[(&#x27;columntransformer-1&#x27;,\n",
       "                                ColumnTransformer(transformers=[(&#x27;simpleimputer&#x27;,\n",
       "                                                                 SimpleImputer(strategy=&#x27;median&#x27;),\n",
       "                                                                 [&#x27;Age&#x27;]),\n",
       "                                                                (&#x27;pipeline&#x27;,\n",
       "                                                                 Pipeline(steps=[(&#x27;simpleimputer&#x27;,\n",
       "                                                                                  SimpleImputer(strategy=&#x27;most_frequent&#x27;)),\n",
       "                                                                                 (&#x27;onehotencoder&#x27;,\n",
       "                                                                                  OneHotEncoder(handle_unknown=&#x27;ignore&#x27;,\n",
       "                                                                                                sparse=False))]),\n",
       "                                                                 [&#x27;Embarked&#x27;])])),\n",
       "                               (&#x27;columntransformer-2&#x27;,\n",
       "                                ColumnT...\n",
       "                                                                 CountAcrossFeatures(name=&#x27;FamilySize&#x27;,\n",
       "                                                                                     offset=1),\n",
       "                                                                 [&#x27;SibSp&#x27;,\n",
       "                                                                  &#x27;Parch&#x27;]),\n",
       "                                                                (&#x27;discretizefeatures&#x27;,\n",
       "                                                                 DiscretizeFeatures(name=&#x27;FareBand&#x27;),\n",
       "                                                                 [&#x27;Fare&#x27;]),\n",
       "                                                                (&#x27;booleanfeatures&#x27;,\n",
       "                                                                 BooleanFeatures(name=&#x27;IsAlone&#x27;),\n",
       "                                                                 [&#x27;SibSp&#x27;,\n",
       "                                                                  &#x27;Parch&#x27;]),\n",
       "                                                                (&#x27;pipeline&#x27;,\n",
       "                                                                 Pipeline(steps=[(&#x27;extracttitles&#x27;,\n",
       "                                                                                  ExtractTitles()),\n",
       "                                                                                 (&#x27;onehotencoder&#x27;,\n",
       "                                                                                  OneHotEncoder(handle_unknown=&#x27;ignore&#x27;,\n",
       "                                                                                                sparse=False))]),\n",
       "                                                                 [&#x27;Name&#x27;])],\n",
       "                                                  verbose_feature_names_out=False))])</pre></div></div></div><div class=\"sk-parallel\"><div class=\"sk-parallel-item\"><div class=\"sk-item\"><div class=\"sk-label-container\"><div class=\"sk-label sk-toggleable\"><label>columntransformer-1</label></div></div><div class=\"sk-serial\"><div class=\"sk-item sk-dashed-wrapped\"><div class=\"sk-parallel\"><div class=\"sk-parallel-item\"><div class=\"sk-item\"><div class=\"sk-label-container\"><div class=\"sk-label sk-toggleable\"><input class=\"sk-toggleable__control sk-hidden--visually\" id=\"31be9be3-62df-4ace-a4dd-f0860e333af3\" type=\"checkbox\" ><label for=\"31be9be3-62df-4ace-a4dd-f0860e333af3\" class=\"sk-toggleable__label sk-toggleable__label-arrow\">simpleimputer</label><div class=\"sk-toggleable__content\"><pre>[&#x27;Age&#x27;]</pre></div></div></div><div class=\"sk-serial\"><div class=\"sk-item\"><div class=\"sk-estimator sk-toggleable\"><input class=\"sk-toggleable__control sk-hidden--visually\" id=\"479f7816-6f99-4d78-bb06-f732fe913fac\" type=\"checkbox\" ><label for=\"479f7816-6f99-4d78-bb06-f732fe913fac\" class=\"sk-toggleable__label sk-toggleable__label-arrow\">SimpleImputer</label><div class=\"sk-toggleable__content\"><pre>SimpleImputer(strategy=&#x27;median&#x27;)</pre></div></div></div></div></div></div><div class=\"sk-parallel-item\"><div class=\"sk-item\"><div class=\"sk-label-container\"><div class=\"sk-label sk-toggleable\"><input class=\"sk-toggleable__control sk-hidden--visually\" id=\"a99424db-6c8a-4331-8d96-ed59f21d05a3\" type=\"checkbox\" ><label for=\"a99424db-6c8a-4331-8d96-ed59f21d05a3\" class=\"sk-toggleable__label sk-toggleable__label-arrow\">pipeline</label><div class=\"sk-toggleable__content\"><pre>[&#x27;Embarked&#x27;]</pre></div></div></div><div class=\"sk-serial\"><div class=\"sk-item\"><div class=\"sk-serial\"><div class=\"sk-item\"><div class=\"sk-estimator sk-toggleable\"><input class=\"sk-toggleable__control sk-hidden--visually\" id=\"fcd48eca-a99d-4ae2-99dc-323b401ac0a4\" type=\"checkbox\" ><label for=\"fcd48eca-a99d-4ae2-99dc-323b401ac0a4\" class=\"sk-toggleable__label sk-toggleable__label-arrow\">SimpleImputer</label><div class=\"sk-toggleable__content\"><pre>SimpleImputer(strategy=&#x27;most_frequent&#x27;)</pre></div></div></div><div class=\"sk-item\"><div class=\"sk-estimator sk-toggleable\"><input class=\"sk-toggleable__control sk-hidden--visually\" id=\"9e09872c-d6c1-40f8-a6a9-63712b764837\" type=\"checkbox\" ><label for=\"9e09872c-d6c1-40f8-a6a9-63712b764837\" class=\"sk-toggleable__label sk-toggleable__label-arrow\">OneHotEncoder</label><div class=\"sk-toggleable__content\"><pre>OneHotEncoder(handle_unknown=&#x27;ignore&#x27;, sparse=False)</pre></div></div></div></div></div></div></div></div></div></div></div></div></div><div class=\"sk-parallel-item\"><div class=\"sk-item\"><div class=\"sk-label-container\"><div class=\"sk-label sk-toggleable\"><label>columntransformer-2</label></div></div><div class=\"sk-serial\"><div class=\"sk-item sk-dashed-wrapped\"><div class=\"sk-parallel\"><div class=\"sk-parallel-item\"><div class=\"sk-item\"><div class=\"sk-label-container\"><div class=\"sk-label sk-toggleable\"><input class=\"sk-toggleable__control sk-hidden--visually\" id=\"6972a4ee-61be-406f-8018-d03644231cd8\" type=\"checkbox\" ><label for=\"6972a4ee-61be-406f-8018-d03644231cd8\" class=\"sk-toggleable__label sk-toggleable__label-arrow\">countacrossfeatures</label><div class=\"sk-toggleable__content\"><pre>[&#x27;SibSp&#x27;, &#x27;Parch&#x27;]</pre></div></div></div><div class=\"sk-serial\"><div class=\"sk-item\"><div class=\"sk-estimator sk-toggleable\"><input class=\"sk-toggleable__control sk-hidden--visually\" id=\"55207e92-24d5-4489-a021-8c83de47666d\" type=\"checkbox\" ><label for=\"55207e92-24d5-4489-a021-8c83de47666d\" class=\"sk-toggleable__label sk-toggleable__label-arrow\">CountAcrossFeatures</label><div class=\"sk-toggleable__content\"><pre>CountAcrossFeatures(name=&#x27;FamilySize&#x27;, offset=1)</pre></div></div></div></div></div></div><div class=\"sk-parallel-item\"><div class=\"sk-item\"><div class=\"sk-label-container\"><div class=\"sk-label sk-toggleable\"><input class=\"sk-toggleable__control sk-hidden--visually\" id=\"177cb101-cefd-49ee-a89c-7cf1abc6174c\" type=\"checkbox\" ><label for=\"177cb101-cefd-49ee-a89c-7cf1abc6174c\" class=\"sk-toggleable__label sk-toggleable__label-arrow\">discretizefeatures</label><div class=\"sk-toggleable__content\"><pre>[&#x27;Fare&#x27;]</pre></div></div></div><div class=\"sk-serial\"><div class=\"sk-item\"><div class=\"sk-estimator sk-toggleable\"><input class=\"sk-toggleable__control sk-hidden--visually\" id=\"5a967e0a-213a-404d-a751-aeb5034a1018\" type=\"checkbox\" ><label for=\"5a967e0a-213a-404d-a751-aeb5034a1018\" class=\"sk-toggleable__label sk-toggleable__label-arrow\">DiscretizeFeatures</label><div class=\"sk-toggleable__content\"><pre>DiscretizeFeatures(name=&#x27;FareBand&#x27;)</pre></div></div></div></div></div></div><div class=\"sk-parallel-item\"><div class=\"sk-item\"><div class=\"sk-label-container\"><div class=\"sk-label sk-toggleable\"><input class=\"sk-toggleable__control sk-hidden--visually\" id=\"3647bf1a-47b6-43ce-adef-5326c955c1fe\" type=\"checkbox\" ><label for=\"3647bf1a-47b6-43ce-adef-5326c955c1fe\" class=\"sk-toggleable__label sk-toggleable__label-arrow\">booleanfeatures</label><div class=\"sk-toggleable__content\"><pre>[&#x27;SibSp&#x27;, &#x27;Parch&#x27;]</pre></div></div></div><div class=\"sk-serial\"><div class=\"sk-item\"><div class=\"sk-estimator sk-toggleable\"><input class=\"sk-toggleable__control sk-hidden--visually\" id=\"1cfee3c3-081d-4b20-854d-9c2f3d92a930\" type=\"checkbox\" ><label for=\"1cfee3c3-081d-4b20-854d-9c2f3d92a930\" class=\"sk-toggleable__label sk-toggleable__label-arrow\">BooleanFeatures</label><div class=\"sk-toggleable__content\"><pre>BooleanFeatures(name=&#x27;IsAlone&#x27;)</pre></div></div></div></div></div></div><div class=\"sk-parallel-item\"><div class=\"sk-item\"><div class=\"sk-label-container\"><div class=\"sk-label sk-toggleable\"><input class=\"sk-toggleable__control sk-hidden--visually\" id=\"84b484a9-1f92-4c51-9fd7-841cafa9d65e\" type=\"checkbox\" ><label for=\"84b484a9-1f92-4c51-9fd7-841cafa9d65e\" class=\"sk-toggleable__label sk-toggleable__label-arrow\">pipeline</label><div class=\"sk-toggleable__content\"><pre>[&#x27;Name&#x27;]</pre></div></div></div><div class=\"sk-serial\"><div class=\"sk-item\"><div class=\"sk-serial\"><div class=\"sk-item\"><div class=\"sk-estimator sk-toggleable\"><input class=\"sk-toggleable__control sk-hidden--visually\" id=\"aff549ca-375b-4991-8807-4cd3cb83e05a\" type=\"checkbox\" ><label for=\"aff549ca-375b-4991-8807-4cd3cb83e05a\" class=\"sk-toggleable__label sk-toggleable__label-arrow\">ExtractTitles</label><div class=\"sk-toggleable__content\"><pre>ExtractTitles()</pre></div></div></div><div class=\"sk-item\"><div class=\"sk-estimator sk-toggleable\"><input class=\"sk-toggleable__control sk-hidden--visually\" id=\"d8ed27c5-82c5-433c-849f-167a8e102217\" type=\"checkbox\" ><label for=\"d8ed27c5-82c5-433c-849f-167a8e102217\" class=\"sk-toggleable__label sk-toggleable__label-arrow\">OneHotEncoder</label><div class=\"sk-toggleable__content\"><pre>OneHotEncoder(handle_unknown=&#x27;ignore&#x27;, sparse=False)</pre></div></div></div></div></div></div></div></div></div></div></div></div></div></div></div></div></div>"
      ],
      "text/plain": [
       "FeatureUnion(transformer_list=[('columntransformer-1',\n",
       "                                ColumnTransformer(transformers=[('simpleimputer',\n",
       "                                                                 SimpleImputer(strategy='median'),\n",
       "                                                                 ['Age']),\n",
       "                                                                ('pipeline',\n",
       "                                                                 Pipeline(steps=[('simpleimputer',\n",
       "                                                                                  SimpleImputer(strategy='most_frequent')),\n",
       "                                                                                 ('onehotencoder',\n",
       "                                                                                  OneHotEncoder(handle_unknown='ignore',\n",
       "                                                                                                sparse=False))]),\n",
       "                                                                 ['Embarked'])])),\n",
       "                               ('columntransformer-2',\n",
       "                                ColumnT...\n",
       "                                                                 CountAcrossFeatures(name='FamilySize',\n",
       "                                                                                     offset=1),\n",
       "                                                                 ['SibSp',\n",
       "                                                                  'Parch']),\n",
       "                                                                ('discretizefeatures',\n",
       "                                                                 DiscretizeFeatures(name='FareBand'),\n",
       "                                                                 ['Fare']),\n",
       "                                                                ('booleanfeatures',\n",
       "                                                                 BooleanFeatures(name='IsAlone'),\n",
       "                                                                 ['SibSp',\n",
       "                                                                  'Parch']),\n",
       "                                                                ('pipeline',\n",
       "                                                                 Pipeline(steps=[('extracttitles',\n",
       "                                                                                  ExtractTitles()),\n",
       "                                                                                 ('onehotencoder',\n",
       "                                                                                  OneHotEncoder(handle_unknown='ignore',\n",
       "                                                                                                sparse=False))]),\n",
       "                                                                 ['Name'])],\n",
       "                                                  verbose_feature_names_out=False))])"
      ]
     },
     "execution_count": 97,
     "metadata": {},
     "output_type": "execute_result"
    }
   ],
   "source": [
    "# Perform imputation\n",
    "imputer = make_column_transformer(\n",
    "    (SimpleImputer(strategy=\"median\"), [\"Age\"]),\n",
    "    (\n",
    "        make_pipeline(\n",
    "            SimpleImputer(strategy=\"most_frequent\"),\n",
    "            OneHotEncoder(handle_unknown=\"ignore\", sparse=False),\n",
    "        ),\n",
    "        [\"Embarked\"],\n",
    "    ),\n",
    ")\n",
    "\n",
    "# Build new features\n",
    "new_features = make_column_transformer(\n",
    "    (CountAcrossFeatures(\"FamilySize\", offset=1), [\"SibSp\", \"Parch\"]),\n",
    "    (DiscretizeFeatures(\"FareBand\"), [\"Fare\"]),\n",
    "    (BooleanFeatures(\"IsAlone\"), [\"SibSp\", \"Parch\"]),\n",
    "    (\n",
    "        make_pipeline(ExtractTitles(\"Title\"), OneHotEncoder(handle_unknown=\"ignore\", sparse=False)),\n",
    "        [\"Name\"],\n",
    "    ),\n",
    "    verbose_feature_names_out=False,\n",
    ")\n",
    "\n",
    "# Build pipeline\n",
    "data_pipeline = make_union(imputer, new_features)\n",
    "data_pipeline.fit(X_train)"
   ]
  },
  {
   "cell_type": "code",
   "execution_count": 98,
   "metadata": {},
   "outputs": [
    {
     "name": "stdout",
     "output_type": "stream",
     "text": [
      "fit_time: 0.5291356563568115\n",
      "score_time: 0.028127336502075197\n",
      "test_accuracy: 0.7816948284690219\n",
      "test_average_precision: 0.7895978318642364\n",
      "test_neg_brier_score: -0.1780402109998613\n",
      "test_roc_auc: 0.8188906369183829\n"
     ]
    }
   ],
   "source": [
    "# The model\n",
    "model = XGBClassifier(n_estimators=200, eval_metric=\"logloss\", random_state=random_state, use_label_encoder=False)\n",
    "\n",
    "# The final pipeline\n",
    "pipeline = make_pipeline(data_pipeline, model)\n",
    "\n",
    "# Metrics to evaluate the model\n",
    "scoring = ('accuracy', 'average_precision', 'neg_brier_score','roc_auc')\n",
    "\n",
    "# Cross validation\n",
    "scores = cross_validate(pipeline, X_train, y_train, cv=10, scoring=scoring)\n",
    "\n",
    "# Mean value of the metrics\n",
    "for k, v in scores.items():\n",
    "    print(f\"{k}: {v.mean()}\")"
   ]
  }
 ],
 "metadata": {
  "interpreter": {
   "hash": "d3f81c8196facad2800a613f3c5a8c1e4244f285017dc17a7042e1be4536280c"
  },
  "kernelspec": {
   "display_name": "Python 3.8.10 ('mlops')",
   "language": "python",
   "name": "python3"
  },
  "language_info": {
   "codemirror_mode": {
    "name": "ipython",
    "version": 3
   },
   "file_extension": ".py",
   "mimetype": "text/x-python",
   "name": "python",
   "nbconvert_exporter": "python",
   "pygments_lexer": "ipython3",
   "version": "3.8.10"
  },
  "orig_nbformat": 4
 },
 "nbformat": 4,
 "nbformat_minor": 2
}
