{
 "cells": [
  {
   "cell_type": "code",
   "execution_count": 92,
   "metadata": {},
   "outputs": [],
   "source": [
    "if '__IPYTHON__' in globals():\n",
    "    from IPython import get_ipython\n",
    "    ipython = get_ipython()\n",
    "    ipython.magic('load_ext autoreload')\n",
    "    ipython.magic('autoreload 2')\n",
    "\n",
    "import tempfile\n",
    "import numpy as np\n",
    "import pandas as pd\n",
    "import yaml\n",
    "import matplotlib.pyplot as plt\n",
    "\n",
    "from sklearn.metrics import RocCurveDisplay,ConfusionMatrixDisplay, PrecisionRecallDisplay\n",
    "\n",
    "from sklearn.ensemble import RandomForestClassifier\n",
    "\n",
    "from sklearn.model_selection import cross_validate, train_test_split\n",
    "from sklearn.pipeline import make_pipeline, make_union\n",
    "from sklearn.compose import make_column_transformer\n",
    "from sklearn.preprocessing import FunctionTransformer\n",
    "\n",
    "from sklearn.impute import SimpleImputer\n",
    "from sklearn.preprocessing import OneHotEncoder, OrdinalEncoder\n",
    "\n",
    "from sklearn import set_config\n",
    "set_config(display=\"diagram\")"
   ]
  },
  {
   "cell_type": "markdown",
   "metadata": {},
   "source": [
    "### 1. Import data"
   ]
  },
  {
   "cell_type": "code",
   "execution_count": 93,
   "metadata": {},
   "outputs": [],
   "source": [
    "target = \"Survived\"\n",
    "random_state = 5646\n",
    "test_size = 0.3\n",
    "n_estimators = 200\n",
    "min_samples_split = 20\n"
   ]
  },
  {
   "cell_type": "code",
   "execution_count": 94,
   "metadata": {},
   "outputs": [],
   "source": [
    "df = pd.read_csv(\"../data/raw/train.csv\")\n",
    "X, y = (\n",
    "    df.drop(target, axis=1),\n",
    "    df.pop(target),\n",
    ")"
   ]
  },
  {
   "cell_type": "code",
   "execution_count": 95,
   "metadata": {},
   "outputs": [],
   "source": [
    "X_train, X_test, y_train, y_test = train_test_split(X, y, random_state=random_state, test_size=test_size, stratify=y)"
   ]
  },
  {
   "cell_type": "markdown",
   "metadata": {},
   "source": [
    "### 2. Prepare data"
   ]
  },
  {
   "cell_type": "code",
   "execution_count": 96,
   "metadata": {},
   "outputs": [],
   "source": [
    "def identify_deck(X, fill_missing=\"UNK\"):\n",
    "    # Create Deck column\n",
    "    X = X.apply(lambda s: s[0] if s.str.contains(\"^[A-Za-z]\").any() else fill_missing, axis=1)\n",
    "    return np.array(X).reshape(-1, 1)\n",
    "\n",
    "def fill_by_group(X, group_by, fill_by=\"median\"):    \n",
    "    X[\"Age\"] = X[\"Age\"].fillna(X.groupby(group_by)[\"Age\"].transform(fill_by))\n",
    "    return np.array(X[\"Age\"]).reshape(-1, 1)\n",
    "\n",
    "def count_features(X, offset=0):\n",
    "    X = X.apply(lambda x: x.sum(), axis=1) + offset\n",
    "    return np.array(X).reshape(-1, 1)\n",
    "\n",
    "\n",
    "def discretize_feature(X, bins=[0,1], labels=None):\n",
    "    if isinstance(X, np.ndarray):\n",
    "        X = pd.DataFrame(X)\n",
    "    X = X.apply(lambda x: pd.cut(x, bins=bins, include_lowest=True,labels=labels))\n",
    "    return np.array(X).reshape(-1, 1)\n",
    "\n",
    "def boolean_feature(X):\n",
    "    X = X.apply(lambda x: x.sum() == 0, axis=1).astype(int)\n",
    "    return np.array(X).reshape(-1, 1)\n",
    "\n",
    "def extract_titles(X):\n",
    "    X = X.apply(lambda x: x.str.extract(\" ([A-Za-z]+)\\.\", expand=False))\n",
    "    return np.array(X).reshape(-1, 1)\n"
   ]
  },
  {
   "cell_type": "markdown",
   "metadata": {},
   "source": [
    "### 3. Create the pipeline"
   ]
  },
  {
   "cell_type": "code",
   "execution_count": 97,
   "metadata": {},
   "outputs": [],
   "source": [
    "# Perform imputation\n",
    "data_pipeline = make_column_transformer(\n",
    "    # Create the familysize feature\n",
    "    (FunctionTransformer(count_features, kw_args={\"offset\": 1}), [\"SibSp\", \"Parch\"]),\n",
    "    # Create is_alone feature\n",
    "    (FunctionTransformer(boolean_feature), [\"SibSp\", \"Parch\"]),\n",
    "    # Create the title feature\n",
    "    (\n",
    "        make_pipeline(\n",
    "            FunctionTransformer(extract_titles),\n",
    "            OneHotEncoder(handle_unknown=\"ignore\", sparse=False),\n",
    "        ),\n",
    "        [\"Name\"],\n",
    "    ),\n",
    "    # Create the deck feature\n",
    "    (\n",
    "        make_pipeline(\n",
    "            FunctionTransformer(identify_deck), OneHotEncoder(handle_unknown=\"ignore\", sparse=False)\n",
    "        ),\n",
    "        [\"Cabin\"],\n",
    "    ),\n",
    "\n",
    "    # Create the fare_band feature\n",
    "    (\n",
    "        make_pipeline(\n",
    "            SimpleImputer(strategy=\"median\"),\n",
    "            FunctionTransformer(\n",
    "                discretize_feature,\n",
    "                kw_args=dict(\n",
    "                    bins=[0, 8, 15, 32, 100, 600],\n",
    "                    labels=[\"Very Low\", \"Low\", \"Medium\", \"High\", \"Very High\"],\n",
    "                ),\n",
    "            ),\n",
    "            OrdinalEncoder(\n",
    "                categories=[[\"Very Low\", \"Low\", \"Medium\", \"High\", \"Very High\"]]\n",
    "            ),\n",
    "        ),\n",
    "        [\"Fare\"],\n",
    "    ),\n",
    "    # Create the age_band feature\n",
    "    (\n",
    "        make_pipeline(\n",
    "            FunctionTransformer(\n",
    "                fill_by_group, kw_args=dict(group_by=\"Pclass\", fill_by=\"median\")\n",
    "            ),\n",
    "            FunctionTransformer(\n",
    "                discretize_feature,\n",
    "                kw_args=dict(\n",
    "                    bins=[0, 14, 24, 64, 150],\n",
    "                    labels=[\"Children\", \"Youth\", \"Adults\", \"Seniors\"],\n",
    "                ),\n",
    "            ),\n",
    "            OrdinalEncoder(categories=[[\"Children\", \"Youth\", \"Adults\", \"Seniors\"]]),\n",
    "        ),\n",
    "        [\"Age\", \"Pclass\"],\n",
    "    ), \n",
    "    (\n",
    "        make_pipeline(\n",
    "            SimpleImputer(strategy=\"most_frequent\"),\n",
    "            OneHotEncoder(handle_unknown=\"ignore\", sparse=False),\n",
    "        ),\n",
    "        [\"Embarked\", \"Sex\", \"Pclass\"],\n",
    "    ),\n",
    "    (\"passthrough\", [\"SibSp\", \"Parch\"])\n",
    ")\n"
   ]
  },
  {
   "cell_type": "markdown",
   "metadata": {},
   "source": [
    "### 4. Create the model"
   ]
  },
  {
   "cell_type": "code",
   "execution_count": 98,
   "metadata": {},
   "outputs": [],
   "source": [
    "model = RandomForestClassifier(\n",
    "    n_estimators=n_estimators,\n",
    "    random_state=random_state,\n",
    "    min_samples_split=min_samples_split,\n",
    ")"
   ]
  },
  {
   "cell_type": "markdown",
   "metadata": {},
   "source": [
    "### 5. Validation"
   ]
  },
  {
   "cell_type": "code",
   "execution_count": 99,
   "metadata": {},
   "outputs": [
    {
     "name": "stdout",
     "output_type": "stream",
     "text": [
      "fit_time                  0.1889   0.0114\n",
      "score_time                0.0260   0.0002\n",
      "test_accuracy             0.8121   0.0462\n",
      "test_average_precision    0.8329   0.0607\n",
      "test_neg_brier_score      -0.1364  0.0230\n",
      "test_roc_auc              0.8616   0.0427\n",
      "test_f1                   0.7362   0.0669\n"
     ]
    }
   ],
   "source": [
    "# Transform data\n",
    "X_train_features = data_pipeline.fit_transform(X_train)\n",
    "X_test_features = data_pipeline.transform(X_test)\n",
    "\n",
    "# Metrics to evaluate the model\n",
    "scoring = (\"accuracy\", \"average_precision\", \"neg_brier_score\", \"roc_auc\", \"f1\")\n",
    "\n",
    "# Cross validation\n",
    "scores = cross_validate(\n",
    "    model, X_train_features, y_train, cv=5, scoring=scoring, n_jobs=-1\n",
    ")\n",
    "\n",
    "# Mean value of the metrics\n",
    "for k, v in scores.items():\n",
    "    #print(f\"{k}: {v.mean():0.4f} (std {v.std():0.4f})\")\n",
    "    print (\"{:<25} {:<8.4f} {:<4.4f}\".format( k, v.mean(), v.std()))\n"
   ]
  },
  {
   "cell_type": "code",
   "execution_count": 100,
   "metadata": {},
   "outputs": [
    {
     "data": {
      "image/png": "[encoded data removed]",
      "text/plain": [
       "<Figure size 1008x360 with 4 Axes>"
      ]
     },
     "metadata": {
      "needs_background": "light"
     },
     "output_type": "display_data"
    }
   ],
   "source": [
    "model.fit(X_train_features, y_train)\n",
    "fig, ax = plt.subplots(1, 3, figsize=(14, 5))\n",
    "RocCurveDisplay.from_estimator(model, X_test_features, y_test, ax=ax[0])\n",
    "PrecisionRecallDisplay.from_estimator(model, X_test_features, y_test, ax=ax[1])\n",
    "ConfusionMatrixDisplay.from_estimator(model, X_test_features, y_test, ax=ax[2])\n",
    "plt.show()"
   ]
  },
  {
   "cell_type": "code",
   "execution_count": 101,
   "metadata": {},
   "outputs": [],
   "source": [
    "test = pd.read_csv(\"../data/raw/test.csv\")\n",
    "test_features = data_pipeline.transform(test)"
   ]
  },
  {
   "cell_type": "code",
   "execution_count": 102,
   "metadata": {},
   "outputs": [
    {
     "name": "stdout",
     "output_type": "stream",
     "text": [
      "100%|████████████████████████████████████████| 2.77k/2.77k [00:02<00:00, 985B/s]\n",
      "Successfully submitted to Titanic - Machine Learning from Disaster"
     ]
    }
   ],
   "source": [
    "model.fit(X_train_features, y_train)\n",
    "y_test_pred = model.predict(test_features)\n",
    "\n",
    "submission = pd.read_csv(\"../data/gender_submission.csv\")\n",
    "submission[target]= y_test_pred\n",
    "submission[target] = submission[target]\n",
    "\n",
    "with tempfile.TemporaryDirectory() as temp_dir:\n",
    "    tmp_file_path  = f\"{temp_dir}/{model.__class__.__name__}.csv\"\n",
    "    ! kaggle competitions submit titanic -f RandomForestClassifier.csv -m \"Random Forest Classifier\""
   ]
  }
 ],
 "metadata": {
  "interpreter": {
   "hash": "d3f81c8196facad2800a613f3c5a8c1e4244f285017dc17a7042e1be4536280c"
  },
  "kernelspec": {
   "display_name": "Python 3.8.10 ('mlops')",
   "language": "python",
   "name": "python3"
  },
  "language_info": {
   "codemirror_mode": {
    "name": "ipython",
    "version": 3
   },
   "file_extension": ".py",
   "mimetype": "text/x-python",
   "name": "python",
   "nbconvert_exporter": "python",
   "pygments_lexer": "ipython3",
   "version": "3.8.10"
  },
  "orig_nbformat": 4
 },
 "nbformat": 4,
 "nbformat_minor": 2
}
