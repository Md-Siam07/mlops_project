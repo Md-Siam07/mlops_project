{
 "cells": [
  {
   "cell_type": "code",
   "execution_count": 1,
   "metadata": {},
   "outputs": [
    {
     "name": "stderr",
     "output_type": "stream",
     "text": [
      "/home/maike/.envs/mlops/lib/python3.8/site-packages/xgboost/compat.py:36: FutureWarning: pandas.Int64Index is deprecated and will be removed from pandas in a future version. Use pandas.Index with the appropriate dtype instead.\n",
      "  from pandas import MultiIndex, Int64Index\n"
     ]
    }
   ],
   "source": [
    "%load_ext autoreload\n",
    "%autoreload 2\n",
    "\n",
    "import numpy as np\n",
    "import pandas as pd\n",
    "import yaml\n",
    "\n",
    "from xgboost import XGBClassifier\n",
    "\n",
    "from sklearn import set_config\n",
    "\n",
    "from sklearn.model_selection import cross_validate, train_test_split\n",
    "from sklearn.metrics import make_scorer\n",
    "\n",
    "from sklearn.base import BaseEstimator, TransformerMixin\n",
    "\n",
    "from sklearn.pipeline import make_pipeline, make_union\n",
    "from sklearn.compose import make_column_transformer\n",
    "from sklearn.preprocessing import FunctionTransformer\n",
    "\n",
    "from sklearn.impute import SimpleImputer\n",
    "from sklearn.preprocessing import OneHotEncoder\n",
    "\n",
    "set_config(display=\"diagram\")"
   ]
  },
  {
   "cell_type": "code",
   "execution_count": 2,
   "metadata": {},
   "outputs": [],
   "source": [
    "target = 'Survived'\n",
    "random_state = 5646"
   ]
  },
  {
   "cell_type": "markdown",
   "metadata": {},
   "source": [
    "### 1. Import data"
   ]
  },
  {
   "cell_type": "code",
   "execution_count": 3,
   "metadata": {},
   "outputs": [],
   "source": [
    "df = pd.read_csv(\"../data/raw/train.csv\")\n",
    "X, y = (\n",
    "    df.drop(target, axis=1),\n",
    "    df[[target]],\n",
    ")"
   ]
  },
  {
   "cell_type": "code",
   "execution_count": 4,
   "metadata": {},
   "outputs": [],
   "source": [
    "X_train, X_test, y_train, y_test = train_test_split(X, y, random_state=random_state, test_size=0.3, stratify=y)"
   ]
  },
  {
   "cell_type": "markdown",
   "metadata": {},
   "source": [
    "### 2. Prepare data"
   ]
  },
  {
   "cell_type": "code",
   "execution_count": 5,
   "metadata": {},
   "outputs": [],
   "source": [
    "def count_features(X, offset=0):\n",
    "    X = X.apply(lambda x: x.sum(), axis=1) + offset\n",
    "    return np.array(X).reshape(-1, 1)\n",
    "\n",
    "\n",
    "def discretize_feature(X, quantiles=4, labels=None):\n",
    "    flattened_X = X.values.flatten()\n",
    "    if labels is None:\n",
    "        labels = np.arange(quantiles)\n",
    "    X = pd.qcut(flattened_X, q=quantiles, labels=labels)\n",
    "    return np.array(X).reshape(-1, 1)\n",
    "\n",
    "\n",
    "def boolean_feature(X):\n",
    "    X = X.apply(lambda x: x.sum() == 0, axis=1).astype(int)\n",
    "    return np.array(X).reshape(-1, 1)\n",
    "\n",
    "\n",
    "def extract_titles(X):\n",
    "    X = X.apply(lambda x: x.str.extract(\" ([A-Za-z]+)\\.\", expand=False))\n",
    "    return np.array(X).reshape(-1, 1)\n"
   ]
  },
  {
   "cell_type": "markdown",
   "metadata": {},
   "source": [
    "### 3. Create the pipeline"
   ]
  },
  {
   "cell_type": "code",
   "execution_count": 6,
   "metadata": {},
   "outputs": [],
   "source": [
    "# Perform imputation\n",
    "imputer = make_column_transformer(\n",
    "    (SimpleImputer(strategy=\"median\"), [\"Age\"]),\n",
    "    (\n",
    "        make_pipeline(\n",
    "            SimpleImputer(strategy=\"most_frequent\"),\n",
    "            OneHotEncoder(handle_unknown=\"ignore\", sparse=False),\n",
    "        ),\n",
    "        [\"Embarked\"],\n",
    "    ),\n",
    ")\n",
    "FunctionTransformer()\n",
    "\n",
    "\n",
    "# Build new features\n",
    "new_features = make_column_transformer(\n",
    "    (FunctionTransformer(count_features, kw_args={\"offset\": 1}), [\"SibSp\", \"Parch\"]),\n",
    "    (FunctionTransformer(discretize_feature, kw_args={\"quantiles\": 4}), [\"Fare\"]),\n",
    "    (FunctionTransformer(boolean_feature), [\"SibSp\", \"Parch\"]),\n",
    "    (\n",
    "        make_pipeline(\n",
    "            FunctionTransformer(extract_titles),\n",
    "            OneHotEncoder(handle_unknown=\"ignore\", sparse=False),\n",
    "        ),\n",
    "        [\"Name\"],\n",
    "    ),\n",
    "    verbose_feature_names_out=False,\n",
    ")\n",
    "\n",
    "data_pipeline = make_union(imputer, new_features)"
   ]
  },
  {
   "cell_type": "markdown",
   "metadata": {},
   "source": [
    "### 4. Create and evaluate a model"
   ]
  },
  {
   "cell_type": "code",
   "execution_count": 7,
   "metadata": {},
   "outputs": [
    {
     "name": "stdout",
     "output_type": "stream",
     "text": [
      "fit_time: 0.4658080816268921\n",
      "score_time: 0.0254866361618042\n",
      "test_accuracy: 0.7816948284690219\n",
      "test_average_precision: 0.7895978318642364\n",
      "test_neg_brier_score: -0.1780402109998613\n",
      "test_roc_auc: 0.8188906369183829\n",
      "test_f1: 0.704129565654146\n"
     ]
    }
   ],
   "source": [
    "# The model\n",
    "model = XGBClassifier(n_estimators=200, eval_metric=\"logloss\", random_state=random_state, use_label_encoder=False)\n",
    "\n",
    "# The final pipeline\n",
    "pipeline = make_pipeline(data_pipeline, model)\n",
    "\n",
    "# Metrics to evaluate the model\n",
    "scoring = ('accuracy', 'average_precision', 'neg_brier_score','roc_auc', 'f1')\n",
    "\n",
    "# Cross validation\n",
    "scores = cross_validate(pipeline, X_train, y_train, cv=10, scoring=scoring)\n",
    "\n",
    "# Mean value of the metrics\n",
    "for k, v in scores.items():\n",
    "    print(f\"{k}: {v.mean()}\")"
   ]
  }
 ],
 "metadata": {
  "interpreter": {
   "hash": "d3f81c8196facad2800a613f3c5a8c1e4244f285017dc17a7042e1be4536280c"
  },
  "kernelspec": {
   "display_name": "Python 3.8.10 ('mlops')",
   "language": "python",
   "name": "python3"
  },
  "language_info": {
   "codemirror_mode": {
    "name": "ipython",
    "version": 3
   },
   "file_extension": ".py",
   "mimetype": "text/x-python",
   "name": "python",
   "nbconvert_exporter": "python",
   "pygments_lexer": "ipython3",
   "version": "3.8.10"
  },
  "orig_nbformat": 4
 },
 "nbformat": 4,
 "nbformat_minor": 2
}
